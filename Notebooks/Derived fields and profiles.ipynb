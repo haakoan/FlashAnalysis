{
 "cells": [
  {
   "cell_type": "code",
   "execution_count": 3,
   "id": "c81914f4",
   "metadata": {},
   "outputs": [],
   "source": [
    "import numpy as np\n",
    "import matplotlib.pyplot as plt\n",
    "import yt                                                                                                                                                    \n",
    "from yt import derived_field\n",
    "\n",
    "\n"
   ]
  },
  {
   "cell_type": "code",
   "execution_count": 4,
   "id": "2bf7bf4a",
   "metadata": {},
   "outputs": [],
   "source": [
    "#derived fields are\n",
    "#define based on existing data fields within the dataset\n",
    "#the decorator @derived_field makes it easier.\n",
    "\n",
    "#These derived fields define coordinates and velocities in spherical coordinates.\n",
    "#Can be useful.\n",
    "\n",
    "@derived_field(name='mycostheta',sampling_type='cell')\n",
    "def _mycostheta(field,data):\n",
    "    return data['z']/np.sqrt(data['r']**2+data['z']**2)\n",
    "\n",
    "@derived_field(name='mysintheta',sampling_type='cell')\n",
    "def _mysintheta(field,data):\n",
    "    return data['r']/np.sqrt(data['r']**2+data['z']**2)\n",
    "\n",
    "\n",
    "@derived_field(name='vrad',units='cm/s',sampling_type='cell')\n",
    "def _vrad(field,data):\n",
    "    return data['vely']*data['mycostheta']+data['velx']*data['mysintheta']\n",
    "\n",
    "\n",
    "@derived_field(name='vphi',units='cm/s',sampling_type='cell')\n",
    "def _vphi(field,data):\n",
    "    return data['vely']*data['mysintheta']-data['velx']*data['mycostheta']\n",
    "\n",
    "@derived_field(name='spherical_radius',units='cm',sampling_type='cell')\n",
    "def _spherical_radius(field,data):\n",
    "    return np.sqrt(data['z']**2+data['r']**2)\n",
    "\n",
    "\n",
    "#without the decorator you need to do something like\n",
    "#\n",
    "# def _density_squared(field, data):\n",
    "#     return data[\"density\"] ** 2\n",
    "\n",
    "# yt.add_field((\"gas\", \"density_squared\"), function=_density_squared, units=\"g**2/cm**6\")\n"
   ]
  },
  {
   "cell_type": "code",
   "execution_count": 33,
   "id": "aef1d80b",
   "metadata": {},
   "outputs": [
    {
     "name": "stderr",
     "output_type": "stream",
     "text": [
      "yt : [WARNING  ] 2024-05-22 14:41:04,744 Extending theta dimension to 2PI + left edge.\n",
      "yt : [INFO     ] 2024-05-22 14:41:04,795 Parameters: current_time              = 1.1099005177086454\n",
      "yt : [INFO     ] 2024-05-22 14:41:04,798 Parameters: domain_dimensions         = [ 60 120   1]\n",
      "yt : [INFO     ] 2024-05-22 14:41:04,799 Parameters: domain_left_edge          = [ 0.e+00 -1.e+09  0.e+00]\n",
      "yt : [INFO     ] 2024-05-22 14:41:04,801 Parameters: domain_right_edge         = [1.00000000e+09 1.00000000e+09 6.28318531e+00]\n",
      "yt : [INFO     ] 2024-05-22 14:41:04,802 Parameters: cosmological_simulation   = 0\n"
     ]
    }
   ],
   "source": [
    "# create profiles of data, binning data according to one or more fields \n",
    "\n",
    "# To create a profile, specify the \n",
    "# fields for binning and the fields to profle. \n",
    "# The result is a profile object that can used in a simliar manner as to normal yt objects.\n",
    "\n",
    "ck_f = 's20_0.75_hdf5_plt_cnt_1595'\n",
    "ds = yt.load(ck_f)\n",
    "\n",
    "all_data = ds.all_data() #You need to get all the data to do the binning\n",
    "\n",
    "#There are a few ways of making profils\n",
    "#1\n",
    "profile = yt.create_profile(all_data,bin_fields=(\"spherical_radius\"), \n",
    "                            fields=[\"dens\"], weight_field=\"cell_volume\")\n",
    "#2\n",
    "profile1D = yt.Profile1D(all_data, ('spherical_radius'), 500, 1e3, 1e8,\n",
    "                         False,weight_field=\"cell_volume\")\n",
    "profile1D.add_fields('dens') #here we need to add the field later.\n",
    "\n",
    "#The numbers in profile1D are numpoints, rmin,rmax and then the false \n",
    "#means no log-spacing on x-axis. Log spacing can be good, but can give\n",
    "#issues at small r."
   ]
  },
  {
   "cell_type": "code",
   "execution_count": 32,
   "id": "00f7768b",
   "metadata": {},
   "outputs": [],
   "source": [
    "#see\n",
    "#https://yt-project.org/doc/reference/api/yt.data_objects.profiles.html#yt.data_objects.profiles.create_profile\n",
    "#https://yt-project.org/doc/reference/api/yt.data_objects.profiles.html#yt.data_objects.profiles.create_profile"
   ]
  },
  {
   "cell_type": "code",
   "execution_count": 34,
   "id": "6fc425da",
   "metadata": {},
   "outputs": [
    {
     "data": {
      "text/plain": [
       "(10000.0, 5000000.0)"
      ]
     },
     "execution_count": 34,
     "metadata": {},
     "output_type": "execute_result"
    },
    {
     "data": {
      "image/png": "[encoded data removed]",
      "text/plain": [
       "<Figure size 640x480 with 1 Axes>"
      ]
     },
     "metadata": {},
     "output_type": "display_data"
    }
   ],
   "source": [
    "plt.plot(profile.x,profile['dens'])\n",
    "plt.plot(profile1D.x,profile1D['dens'],'--',c='C2')\n",
    "plt.xlim([1e4,0.5e7])"
   ]
  },
  {
   "cell_type": "code",
   "execution_count": null,
   "id": "1d73082b",
   "metadata": {},
   "outputs": [],
   "source": []
  }
 ],
 "metadata": {
  "kernelspec": {
   "display_name": "Python 3 (ipykernel)",
   "language": "python",
   "name": "python3"
  },
  "language_info": {
   "codemirror_mode": {
    "name": "ipython",
    "version": 3
   },
   "file_extension": ".py",
   "mimetype": "text/x-python",
   "name": "python",
   "nbconvert_exporter": "python",
   "pygments_lexer": "ipython3",
   "version": "3.10.9"
  }
 },
 "nbformat": 4,
 "nbformat_minor": 5
}
